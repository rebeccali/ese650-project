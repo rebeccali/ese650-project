{
 "cells": [
  {
   "cell_type": "code",
   "execution_count": 28,
   "metadata": {},
   "outputs": [],
   "source": [
    "import torch, time, sys\n",
    "import autograd\n",
    "import autograd.numpy as np\n",
    "import matplotlib.pyplot as plt\n",
    "import scipy.integrate\n",
    "solve_ivp = scipy.integrate.solve_ivp\n",
    "\n",
    "EXPERIMENT_DIR = './experiment-single-force/'\n",
    "sys.path.append(EXPERIMENT_DIR)\n",
    "\n",
    "from data import get_dataset, get_trajectory, dynamics_fn, hamiltonian_fn, arrange_data, get_field\n",
    "from nn_models import MLP, PSD\n",
    "from symoden import SymODEN_R\n",
    "from utils import L2_loss, from_pickle\n"
   ]
  },
  {
   "cell_type": "code",
   "execution_count": 29,
   "metadata": {},
   "outputs": [],
   "source": [
    "DPI = 600\n",
    "FORMAT = 'pdf'\n",
    "LINE_SEGMENTS = 10\n",
    "ARROW_SCALE = 40\n",
    "ARROW_WIDTH = 6e-3\n",
    "LINE_WIDTH = 1\n",
    "\n",
    "def get_args():\n",
    "    return {'input_dim': 2,\n",
    "         'learn_rate': 1e-3,\n",
    "         'nonlinearity': 'tanh',\n",
    "         'name': 'pend',\n",
    "         'gridsize': 10,\n",
    "         'seed': 0,\n",
    "         'save_dir': './{}'.format(EXPERIMENT_DIR),\n",
    "         'fig_dir': './figures',\n",
    "         'num_points': 5,\n",
    "         'gpu': 0,\n",
    "         'solver': 'dopri5',\n",
    "         'rad': False,\n",
    "         'gym': False}\n",
    "\n",
    "class ObjectView(object):\n",
    "    def __init__(self, d): self.__dict__ = d\n",
    "\n",
    "args = ObjectView(get_args())\n"
   ]
  },
  {
   "cell_type": "markdown",
   "metadata": {},
   "source": [
    " ## Load models"
   ]
  },
  {
   "cell_type": "code",
   "execution_count": 30,
   "metadata": {},
   "outputs": [
    {
     "ename": "RuntimeError",
     "evalue": "CUDA error: unspecified launch failure",
     "output_type": "error",
     "traceback": [
      "\u001B[0;31m---------------------------------------------------------------------------\u001B[0m",
      "\u001B[0;31mRuntimeError\u001B[0m                              Traceback (most recent call last)",
      "\u001B[0;32m<ipython-input-30-5985a8e35077>\u001B[0m in \u001B[0;36m<module>\u001B[0;34m\u001B[0m\n\u001B[1;32m     25\u001B[0m     \u001B[0;32mreturn\u001B[0m \u001B[0mmodel\u001B[0m\u001B[0;34m,\u001B[0m \u001B[0mstats\u001B[0m\u001B[0;34m\u001B[0m\u001B[0;34m\u001B[0m\u001B[0m\n\u001B[1;32m     26\u001B[0m \u001B[0;34m\u001B[0m\u001B[0m\n\u001B[0;32m---> 27\u001B[0;31m \u001B[0mbase_ode_model\u001B[0m\u001B[0;34m,\u001B[0m \u001B[0mbase_ode_stats\u001B[0m \u001B[0;34m=\u001B[0m \u001B[0mget_model\u001B[0m\u001B[0;34m(\u001B[0m\u001B[0margs\u001B[0m\u001B[0;34m,\u001B[0m \u001B[0mbaseline\u001B[0m\u001B[0;34m=\u001B[0m\u001B[0;32mTrue\u001B[0m\u001B[0;34m,\u001B[0m \u001B[0mstructure\u001B[0m\u001B[0;34m=\u001B[0m\u001B[0;32mFalse\u001B[0m\u001B[0;34m,\u001B[0m \u001B[0mdamping\u001B[0m\u001B[0;34m=\u001B[0m\u001B[0;32mFalse\u001B[0m\u001B[0;34m,\u001B[0m \u001B[0mnum_points\u001B[0m\u001B[0;34m=\u001B[0m\u001B[0margs\u001B[0m\u001B[0;34m.\u001B[0m\u001B[0mnum_points\u001B[0m\u001B[0;34m,\u001B[0m \u001B[0mgym\u001B[0m\u001B[0;34m=\u001B[0m\u001B[0margs\u001B[0m\u001B[0;34m.\u001B[0m\u001B[0mgym\u001B[0m\u001B[0;34m)\u001B[0m\u001B[0;34m\u001B[0m\u001B[0;34m\u001B[0m\u001B[0m\n\u001B[0m\u001B[1;32m     28\u001B[0m \u001B[0msymoden_ode_model\u001B[0m\u001B[0;34m,\u001B[0m \u001B[0msymoden_ode_stats\u001B[0m \u001B[0;34m=\u001B[0m \u001B[0mget_model\u001B[0m\u001B[0;34m(\u001B[0m\u001B[0margs\u001B[0m\u001B[0;34m,\u001B[0m \u001B[0mbaseline\u001B[0m\u001B[0;34m=\u001B[0m\u001B[0;32mFalse\u001B[0m\u001B[0;34m,\u001B[0m \u001B[0mstructure\u001B[0m\u001B[0;34m=\u001B[0m\u001B[0;32mFalse\u001B[0m\u001B[0;34m,\u001B[0m \u001B[0mdamping\u001B[0m\u001B[0;34m=\u001B[0m\u001B[0;32mFalse\u001B[0m\u001B[0;34m,\u001B[0m \u001B[0mnum_points\u001B[0m\u001B[0;34m=\u001B[0m\u001B[0margs\u001B[0m\u001B[0;34m.\u001B[0m\u001B[0mnum_points\u001B[0m\u001B[0;34m,\u001B[0m \u001B[0mgym\u001B[0m\u001B[0;34m=\u001B[0m\u001B[0margs\u001B[0m\u001B[0;34m.\u001B[0m\u001B[0mgym\u001B[0m\u001B[0;34m)\u001B[0m\u001B[0;34m\u001B[0m\u001B[0;34m\u001B[0m\u001B[0m\n\u001B[1;32m     29\u001B[0m \u001B[0msymoden_ode_struct_model\u001B[0m\u001B[0;34m,\u001B[0m \u001B[0msymoden_ode_struct_stats\u001B[0m \u001B[0;34m=\u001B[0m \u001B[0mget_model\u001B[0m\u001B[0;34m(\u001B[0m\u001B[0margs\u001B[0m\u001B[0;34m,\u001B[0m \u001B[0mbaseline\u001B[0m\u001B[0;34m=\u001B[0m\u001B[0;32mFalse\u001B[0m\u001B[0;34m,\u001B[0m \u001B[0mstructure\u001B[0m\u001B[0;34m=\u001B[0m\u001B[0;32mTrue\u001B[0m\u001B[0;34m,\u001B[0m \u001B[0mdamping\u001B[0m\u001B[0;34m=\u001B[0m\u001B[0;32mFalse\u001B[0m\u001B[0;34m,\u001B[0m \u001B[0mnum_points\u001B[0m\u001B[0;34m=\u001B[0m\u001B[0margs\u001B[0m\u001B[0;34m.\u001B[0m\u001B[0mnum_points\u001B[0m\u001B[0;34m,\u001B[0m \u001B[0mgym\u001B[0m\u001B[0;34m=\u001B[0m\u001B[0margs\u001B[0m\u001B[0;34m.\u001B[0m\u001B[0mgym\u001B[0m\u001B[0;34m)\u001B[0m\u001B[0;34m\u001B[0m\u001B[0;34m\u001B[0m\u001B[0m\n",
      "\u001B[0;32m<ipython-input-30-5985a8e35077>\u001B[0m in \u001B[0;36mget_model\u001B[0;34m(args, baseline, structure, damping, num_points, gym)\u001B[0m\n\u001B[1;32m      2\u001B[0m \u001B[0;32mdef\u001B[0m \u001B[0mget_model\u001B[0m\u001B[0;34m(\u001B[0m\u001B[0margs\u001B[0m\u001B[0;34m,\u001B[0m \u001B[0mbaseline\u001B[0m\u001B[0;34m,\u001B[0m \u001B[0mstructure\u001B[0m\u001B[0;34m,\u001B[0m \u001B[0mdamping\u001B[0m\u001B[0;34m,\u001B[0m \u001B[0mnum_points\u001B[0m\u001B[0;34m,\u001B[0m \u001B[0mgym\u001B[0m\u001B[0;34m=\u001B[0m\u001B[0;32mFalse\u001B[0m\u001B[0;34m)\u001B[0m\u001B[0;34m:\u001B[0m\u001B[0;34m\u001B[0m\u001B[0;34m\u001B[0m\u001B[0m\n\u001B[1;32m      3\u001B[0m     \u001B[0;32mif\u001B[0m \u001B[0mstructure\u001B[0m \u001B[0;34m==\u001B[0m \u001B[0;32mFalse\u001B[0m \u001B[0;32mand\u001B[0m \u001B[0mbaseline\u001B[0m \u001B[0;34m==\u001B[0m \u001B[0;32mTrue\u001B[0m\u001B[0;34m:\u001B[0m\u001B[0;34m\u001B[0m\u001B[0;34m\u001B[0m\u001B[0m\n\u001B[0;32m----> 4\u001B[0;31m         \u001B[0mnn_model\u001B[0m \u001B[0;34m=\u001B[0m \u001B[0mMLP\u001B[0m\u001B[0;34m(\u001B[0m\u001B[0margs\u001B[0m\u001B[0;34m.\u001B[0m\u001B[0minput_dim\u001B[0m\u001B[0;34m,\u001B[0m \u001B[0;36m600\u001B[0m\u001B[0;34m,\u001B[0m \u001B[0margs\u001B[0m\u001B[0;34m.\u001B[0m\u001B[0minput_dim\u001B[0m\u001B[0;34m,\u001B[0m \u001B[0margs\u001B[0m\u001B[0;34m.\u001B[0m\u001B[0mnonlinearity\u001B[0m\u001B[0;34m)\u001B[0m\u001B[0;34m.\u001B[0m\u001B[0mto\u001B[0m\u001B[0;34m(\u001B[0m\u001B[0mdevice\u001B[0m\u001B[0;34m)\u001B[0m\u001B[0;34m\u001B[0m\u001B[0;34m\u001B[0m\u001B[0m\n\u001B[0m\u001B[1;32m      5\u001B[0m         \u001B[0mmodel\u001B[0m \u001B[0;34m=\u001B[0m \u001B[0mSymODEN_R\u001B[0m\u001B[0;34m(\u001B[0m\u001B[0margs\u001B[0m\u001B[0;34m.\u001B[0m\u001B[0minput_dim\u001B[0m\u001B[0;34m,\u001B[0m \u001B[0mH_net\u001B[0m\u001B[0;34m=\u001B[0m\u001B[0mnn_model\u001B[0m\u001B[0;34m,\u001B[0m \u001B[0mdevice\u001B[0m\u001B[0;34m=\u001B[0m\u001B[0mdevice\u001B[0m\u001B[0;34m,\u001B[0m \u001B[0mbaseline\u001B[0m\u001B[0;34m=\u001B[0m\u001B[0;32mTrue\u001B[0m\u001B[0;34m)\u001B[0m\u001B[0;34m\u001B[0m\u001B[0;34m\u001B[0m\u001B[0m\n\u001B[1;32m      6\u001B[0m     \u001B[0;32melif\u001B[0m \u001B[0mstructure\u001B[0m \u001B[0;34m==\u001B[0m \u001B[0;32mFalse\u001B[0m \u001B[0;32mand\u001B[0m \u001B[0mbaseline\u001B[0m \u001B[0;34m==\u001B[0m \u001B[0;32mFalse\u001B[0m\u001B[0;34m:\u001B[0m\u001B[0;34m\u001B[0m\u001B[0;34m\u001B[0m\u001B[0m\n",
      "\u001B[0;32m~/anaconda3/envs/ode/lib/python3.7/site-packages/torch/nn/modules/module.py\u001B[0m in \u001B[0;36mto\u001B[0;34m(self, *args, **kwargs)\u001B[0m\n\u001B[1;32m    423\u001B[0m             \u001B[0;32mreturn\u001B[0m \u001B[0mt\u001B[0m\u001B[0;34m.\u001B[0m\u001B[0mto\u001B[0m\u001B[0;34m(\u001B[0m\u001B[0mdevice\u001B[0m\u001B[0;34m,\u001B[0m \u001B[0mdtype\u001B[0m \u001B[0;32mif\u001B[0m \u001B[0mt\u001B[0m\u001B[0;34m.\u001B[0m\u001B[0mis_floating_point\u001B[0m\u001B[0;34m(\u001B[0m\u001B[0;34m)\u001B[0m \u001B[0;32melse\u001B[0m \u001B[0;32mNone\u001B[0m\u001B[0;34m,\u001B[0m \u001B[0mnon_blocking\u001B[0m\u001B[0;34m)\u001B[0m\u001B[0;34m\u001B[0m\u001B[0;34m\u001B[0m\u001B[0m\n\u001B[1;32m    424\u001B[0m \u001B[0;34m\u001B[0m\u001B[0m\n\u001B[0;32m--> 425\u001B[0;31m         \u001B[0;32mreturn\u001B[0m \u001B[0mself\u001B[0m\u001B[0;34m.\u001B[0m\u001B[0m_apply\u001B[0m\u001B[0;34m(\u001B[0m\u001B[0mconvert\u001B[0m\u001B[0;34m)\u001B[0m\u001B[0;34m\u001B[0m\u001B[0;34m\u001B[0m\u001B[0m\n\u001B[0m\u001B[1;32m    426\u001B[0m \u001B[0;34m\u001B[0m\u001B[0m\n\u001B[1;32m    427\u001B[0m     \u001B[0;32mdef\u001B[0m \u001B[0mregister_backward_hook\u001B[0m\u001B[0;34m(\u001B[0m\u001B[0mself\u001B[0m\u001B[0;34m,\u001B[0m \u001B[0mhook\u001B[0m\u001B[0;34m)\u001B[0m\u001B[0;34m:\u001B[0m\u001B[0;34m\u001B[0m\u001B[0;34m\u001B[0m\u001B[0m\n",
      "\u001B[0;32m~/anaconda3/envs/ode/lib/python3.7/site-packages/torch/nn/modules/module.py\u001B[0m in \u001B[0;36m_apply\u001B[0;34m(self, fn)\u001B[0m\n\u001B[1;32m    199\u001B[0m     \u001B[0;32mdef\u001B[0m \u001B[0m_apply\u001B[0m\u001B[0;34m(\u001B[0m\u001B[0mself\u001B[0m\u001B[0;34m,\u001B[0m \u001B[0mfn\u001B[0m\u001B[0;34m)\u001B[0m\u001B[0;34m:\u001B[0m\u001B[0;34m\u001B[0m\u001B[0;34m\u001B[0m\u001B[0m\n\u001B[1;32m    200\u001B[0m         \u001B[0;32mfor\u001B[0m \u001B[0mmodule\u001B[0m \u001B[0;32min\u001B[0m \u001B[0mself\u001B[0m\u001B[0;34m.\u001B[0m\u001B[0mchildren\u001B[0m\u001B[0;34m(\u001B[0m\u001B[0;34m)\u001B[0m\u001B[0;34m:\u001B[0m\u001B[0;34m\u001B[0m\u001B[0;34m\u001B[0m\u001B[0m\n\u001B[0;32m--> 201\u001B[0;31m             \u001B[0mmodule\u001B[0m\u001B[0;34m.\u001B[0m\u001B[0m_apply\u001B[0m\u001B[0;34m(\u001B[0m\u001B[0mfn\u001B[0m\u001B[0;34m)\u001B[0m\u001B[0;34m\u001B[0m\u001B[0;34m\u001B[0m\u001B[0m\n\u001B[0m\u001B[1;32m    202\u001B[0m \u001B[0;34m\u001B[0m\u001B[0m\n\u001B[1;32m    203\u001B[0m         \u001B[0;32mdef\u001B[0m \u001B[0mcompute_should_use_set_data\u001B[0m\u001B[0;34m(\u001B[0m\u001B[0mtensor\u001B[0m\u001B[0;34m,\u001B[0m \u001B[0mtensor_applied\u001B[0m\u001B[0;34m)\u001B[0m\u001B[0;34m:\u001B[0m\u001B[0;34m\u001B[0m\u001B[0;34m\u001B[0m\u001B[0m\n",
      "\u001B[0;32m~/anaconda3/envs/ode/lib/python3.7/site-packages/torch/nn/modules/module.py\u001B[0m in \u001B[0;36m_apply\u001B[0;34m(self, fn)\u001B[0m\n\u001B[1;32m    221\u001B[0m                 \u001B[0;31m# `with torch.no_grad():`\u001B[0m\u001B[0;34m\u001B[0m\u001B[0;34m\u001B[0m\u001B[0;34m\u001B[0m\u001B[0m\n\u001B[1;32m    222\u001B[0m                 \u001B[0;32mwith\u001B[0m \u001B[0mtorch\u001B[0m\u001B[0;34m.\u001B[0m\u001B[0mno_grad\u001B[0m\u001B[0;34m(\u001B[0m\u001B[0;34m)\u001B[0m\u001B[0;34m:\u001B[0m\u001B[0;34m\u001B[0m\u001B[0;34m\u001B[0m\u001B[0m\n\u001B[0;32m--> 223\u001B[0;31m                     \u001B[0mparam_applied\u001B[0m \u001B[0;34m=\u001B[0m \u001B[0mfn\u001B[0m\u001B[0;34m(\u001B[0m\u001B[0mparam\u001B[0m\u001B[0;34m)\u001B[0m\u001B[0;34m\u001B[0m\u001B[0;34m\u001B[0m\u001B[0m\n\u001B[0m\u001B[1;32m    224\u001B[0m                 \u001B[0mshould_use_set_data\u001B[0m \u001B[0;34m=\u001B[0m \u001B[0mcompute_should_use_set_data\u001B[0m\u001B[0;34m(\u001B[0m\u001B[0mparam\u001B[0m\u001B[0;34m,\u001B[0m \u001B[0mparam_applied\u001B[0m\u001B[0;34m)\u001B[0m\u001B[0;34m\u001B[0m\u001B[0;34m\u001B[0m\u001B[0m\n\u001B[1;32m    225\u001B[0m                 \u001B[0;32mif\u001B[0m \u001B[0mshould_use_set_data\u001B[0m\u001B[0;34m:\u001B[0m\u001B[0;34m\u001B[0m\u001B[0;34m\u001B[0m\u001B[0m\n",
      "\u001B[0;32m~/anaconda3/envs/ode/lib/python3.7/site-packages/torch/nn/modules/module.py\u001B[0m in \u001B[0;36mconvert\u001B[0;34m(t)\u001B[0m\n\u001B[1;32m    421\u001B[0m \u001B[0;34m\u001B[0m\u001B[0m\n\u001B[1;32m    422\u001B[0m         \u001B[0;32mdef\u001B[0m \u001B[0mconvert\u001B[0m\u001B[0;34m(\u001B[0m\u001B[0mt\u001B[0m\u001B[0;34m)\u001B[0m\u001B[0;34m:\u001B[0m\u001B[0;34m\u001B[0m\u001B[0;34m\u001B[0m\u001B[0m\n\u001B[0;32m--> 423\u001B[0;31m             \u001B[0;32mreturn\u001B[0m \u001B[0mt\u001B[0m\u001B[0;34m.\u001B[0m\u001B[0mto\u001B[0m\u001B[0;34m(\u001B[0m\u001B[0mdevice\u001B[0m\u001B[0;34m,\u001B[0m \u001B[0mdtype\u001B[0m \u001B[0;32mif\u001B[0m \u001B[0mt\u001B[0m\u001B[0;34m.\u001B[0m\u001B[0mis_floating_point\u001B[0m\u001B[0;34m(\u001B[0m\u001B[0;34m)\u001B[0m \u001B[0;32melse\u001B[0m \u001B[0;32mNone\u001B[0m\u001B[0;34m,\u001B[0m \u001B[0mnon_blocking\u001B[0m\u001B[0;34m)\u001B[0m\u001B[0;34m\u001B[0m\u001B[0;34m\u001B[0m\u001B[0m\n\u001B[0m\u001B[1;32m    424\u001B[0m \u001B[0;34m\u001B[0m\u001B[0m\n\u001B[1;32m    425\u001B[0m         \u001B[0;32mreturn\u001B[0m \u001B[0mself\u001B[0m\u001B[0;34m.\u001B[0m\u001B[0m_apply\u001B[0m\u001B[0;34m(\u001B[0m\u001B[0mconvert\u001B[0m\u001B[0;34m)\u001B[0m\u001B[0;34m\u001B[0m\u001B[0;34m\u001B[0m\u001B[0m\n",
      "\u001B[0;31mRuntimeError\u001B[0m: CUDA error: unspecified launch failure"
     ]
    }
   ],
   "source": [
    "device = torch.device('cuda:' + str(args.gpu) if torch.cuda.is_available() else 'cpu')\n",
    "def get_model(args, baseline, structure, damping, num_points, gym=False):\n",
    "    if structure == False and baseline == True:\n",
    "        nn_model = MLP(args.input_dim, 600, args.input_dim, args.nonlinearity).to(device)    \n",
    "        model = SymODEN_R(args.input_dim, H_net=nn_model, device=device, baseline=True)\n",
    "    elif structure == False and baseline == False:\n",
    "        H_net = MLP(args.input_dim, 400, 1, args.nonlinearity).to(device)\n",
    "        g_net = MLP(int(args.input_dim/2), 200, int(args.input_dim/2)).to(device)\n",
    "        model = SymODEN_R(args.input_dim, H_net=H_net, g_net=g_net, device=device, baseline=False)\n",
    "    elif structure == True and baseline ==False:\n",
    "        M_net = MLP(int(args.input_dim/2), 300, int(args.input_dim/2))\n",
    "        V_net = MLP(int(args.input_dim/2), 50, 1).to(device)\n",
    "        g_net = MLP(int(args.input_dim/2), 200, int(args.input_dim/2)).to(device)\n",
    "        model = SymODEN_R(args.input_dim, M_net=M_net, V_net=V_net, g_net=g_net, device=device, baseline=False, structure=True).to(device)\n",
    "    else:\n",
    "        raise RuntimeError('argument *baseline* and *structure* cannot both be true')\n",
    "    model_name = 'baseline_ode' if baseline else 'hnn_ode'\n",
    "    struct = '-struct' if structure else ''\n",
    "    rad = '-rad' if args.rad else ''\n",
    "    path = '{}pend-{}{}-{}-p{}{}.tar'.format(args.save_dir, model_name, struct, args.solver, num_points, rad)\n",
    "    model.load_state_dict(torch.load(path, map_location=device))\n",
    "    path = '{}/pend-{}{}-{}-p{}-stats{}.pkl'.format(args.save_dir, model_name, struct, args.solver, num_points, rad)\n",
    "    stats = from_pickle(path)\n",
    "    return model, stats\n",
    "\n",
    "base_ode_model, base_ode_stats = get_model(args, baseline=True, structure=False, damping=False, num_points=args.num_points, gym=args.gym)\n",
    "symoden_ode_model, symoden_ode_stats = get_model(args, baseline=False, structure=False, damping=False, num_points=args.num_points, gym=args.gym)\n",
    "symoden_ode_struct_model, symoden_ode_struct_stats = get_model(args, baseline=False, structure=True, damping=False, num_points=args.num_points, gym=args.gym)\n"
   ]
  },
  {
   "cell_type": "markdown",
   "metadata": {},
   "source": [
    " ## Final training loss"
   ]
  },
  {
   "cell_type": "code",
   "execution_count": null,
   "metadata": {},
   "outputs": [],
   "source": [
    "def get_model_parm_nums(model):\n",
    "    total = sum([param.nelement() for param in model.parameters()])\n",
    "    return total\n",
    "\n",
    "print('Naive Baseline contains {} parameters'.format(get_model_parm_nums(base_ode_model)))\n",
    "print('Final trajectory train loss {:.4e} +/- {:.4e}\\nFinal trajectory test loss {:.4e} +/- {:.4e}'\n",
    ".format(np.mean(base_ode_stats['traj_train_loss']), np.std(base_ode_stats['traj_train_loss']),\n",
    "        np.mean(base_ode_stats['traj_test_loss']), np.std(base_ode_stats['traj_test_loss'])))\n",
    "print('')\n",
    "print('Unstructured SymODEN contains {} parameters'.format(get_model_parm_nums(symoden_ode_model)))\n",
    "print('Final trajectory train loss {:.4e} +/- {:.4e}\\nFinal trajectory test loss {:.4e} +/- {:.4e}'\n",
    ".format(np.mean(symoden_ode_stats['traj_train_loss']), np.std(symoden_ode_stats['traj_train_loss']),\n",
    "        np.mean(symoden_ode_stats['traj_test_loss']), np.std(symoden_ode_stats['traj_test_loss'])))\n",
    "print('')\n",
    "print('SymODEN contains {} parameters'.format(get_model_parm_nums(symoden_ode_struct_model)))\n",
    "print('Final trajectory train loss {:.4e} +/- {:.4e}\\nFinal trajectory test loss {:.4e} +/- {:.4e}'\n",
    ".format(np.mean(symoden_ode_struct_stats['traj_train_loss']), np.std(symoden_ode_struct_stats['traj_train_loss']),\n",
    "        np.mean(symoden_ode_struct_stats['traj_test_loss']), np.std(symoden_ode_struct_stats['traj_test_loss'])))\n"
   ]
  },
  {
   "cell_type": "markdown",
   "metadata": {},
   "source": [
    " ## Dataset to get prediction error"
   ]
  },
  {
   "cell_type": "code",
   "execution_count": null,
   "metadata": {},
   "outputs": [],
   "source": [
    "us = [0.0]\n",
    "data = get_dataset(seed=args.seed, timesteps=40,\n",
    "            save_dir=args.save_dir, us=us, samples=128) #us=np.linspace(-2.0, 2.0, 20)\n",
    "\n",
    "pred_x, pred_t_eval = data['x'], data['t']\n"
   ]
  },
  {
   "cell_type": "code",
   "execution_count": null,
   "metadata": {},
   "outputs": [],
   "source": [
    "from torchdiffeq import odeint\n",
    "def get_pred_loss(pred_x, pred_t_eval, model):\n",
    "    pred_x = torch.tensor(pred_x, requires_grad=True, dtype=torch.float32).to(device) \n",
    "    pred_t_eval = torch.tensor(pred_t_eval, requires_grad=True, dtype=torch.float32).to(device)\n",
    "\n",
    "    pred_loss = []\n",
    "    for i in range(pred_x.shape[0]):\n",
    "        pred_x_hat = odeint(model, pred_x[i, 0, :, :], pred_t_eval, method='rk4')            \n",
    "        pred_loss.append((pred_x[i,:,:,:] - pred_x_hat)**2)\n",
    "    \n",
    "    pred_loss = torch.cat(pred_loss, dim=1)\n",
    "    pred_loss_per_traj = torch.sum(pred_loss, dim=(0, 2))\n",
    "\n",
    "    return pred_loss_per_traj.detach().cpu().numpy()\n",
    "\n",
    "base_pred_loss = get_pred_loss(pred_x, pred_t_eval, base_ode_model)\n",
    "symoden_pred_loss = get_pred_loss(pred_x, pred_t_eval, symoden_ode_model)\n",
    "symoden_struct_pred_loss = get_pred_loss(pred_x, pred_t_eval, symoden_ode_struct_model)\n"
   ]
  },
  {
   "cell_type": "code",
   "execution_count": null,
   "metadata": {},
   "outputs": [],
   "source": [
    "\n",
    "print('Naive Baseline')\n",
    "print('Prediction error {:.4e} +/- {:.4e}'\n",
    ".format(np.mean(base_pred_loss), np.std(base_pred_loss)))\n",
    "print('')\n",
    "print('Unstructure SymODEN')\n",
    "print('Prediction error {:.4e} +/- {:.4e}'\n",
    ".format(np.mean(symoden_pred_loss), np.std(symoden_pred_loss)))\n",
    "print('')\n",
    "print('SymODEN')\n",
    "print('Prediction error {:.4e} +/- {:.4e}'\n",
    ".format(np.mean(symoden_struct_pred_loss), np.std(symoden_struct_pred_loss)))\n"
   ]
  },
  {
   "cell_type": "markdown",
   "metadata": {},
   "source": [
    " ## Integrate to get trajectories"
   ]
  },
  {
   "cell_type": "code",
   "execution_count": null,
   "metadata": {},
   "outputs": [],
   "source": [
    "def integrate_model(model, t_span, y0, **kwargs):\n",
    "    \n",
    "    def fun(t, np_x):\n",
    "        x = torch.tensor( np_x, requires_grad=True, dtype=torch.float32).view(1,3).to(device)\n",
    "        dx = model(0, x).detach().cpu().numpy().reshape(-1)\n",
    "        return dx\n",
    "\n",
    "    return solve_ivp(fun=fun, t_span=t_span, y0=y0, **kwargs)\n",
    "\n",
    "t_span = [0,10]\n",
    "y0 = np.asarray([1.8, 0])\n",
    "u0 = 0.0\n",
    "y0_u = np.asarray([1.8, 0, u0])\n",
    "kwargs = {'t_eval': np.linspace(t_span[0], t_span[1], 1000), 'rtol': 1e-12}\n",
    "base_ivp = integrate_model(base_ode_model, t_span, y0_u, **kwargs)\n",
    "symoden_ivp = integrate_model(symoden_ode_model, t_span, y0_u, **kwargs)\n",
    "symoden_struct_ivp = integrate_model(symoden_ode_struct_model, t_span, y0_u, **kwargs)\n",
    "\n"
   ]
  },
  {
   "cell_type": "markdown",
   "metadata": {},
   "source": [
    " ## Get vector field of different models"
   ]
  },
  {
   "cell_type": "code",
   "execution_count": null,
   "metadata": {},
   "outputs": [],
   "source": [
    "def get_vector_field(model, u=0, **kwargs):\n",
    "    field = get_field(**kwargs)\n",
    "    np_mesh_x = field['x']\n",
    "    \n",
    "    # run model\n",
    "    mesh_x = torch.tensor( np_mesh_x, requires_grad=True, dtype=torch.float32).to(device)\n",
    "    mesh_x_aug = torch.cat((mesh_x, u * torch.ones_like(mesh_x)[:,0].view(-1, 1)), dim=1)\n",
    "    mesh_dx_aug = model(0, mesh_x_aug)\n",
    "    mesh_dx = mesh_dx_aug[:, 0:2]\n",
    "    return mesh_dx.detach().cpu().numpy()\n",
    "\n",
    "# get their vector fields\n",
    "R = 3.6\n",
    "kwargs = {'xmin': -R, 'xmax': R, 'ymin': -R, 'ymax': R, 'gridsize': args.gridsize, 'u': u0}\n",
    "field = get_field(**kwargs)\n",
    "base_field = get_vector_field(base_ode_model, **kwargs)\n",
    "symoden_field = get_vector_field(symoden_ode_model, **kwargs)\n",
    "symoden_struct_field = get_vector_field(symoden_ode_struct_model, **kwargs)\n"
   ]
  },
  {
   "cell_type": "markdown",
   "metadata": {},
   "source": [
    " ## Plot learnt vector field"
   ]
  },
  {
   "cell_type": "code",
   "execution_count": null,
   "metadata": {},
   "outputs": [],
   "source": [
    "for _ in range(1):\n",
    "    fig = plt.figure(figsize=(16, 3.2), dpi=DPI)\n",
    "\n",
    "    plt.subplot(1, 4, 1)\n",
    "    x, y, t = get_trajectory(timesteps=40, noise_std=0.0, y0=y0, radius=2.1, u=u0)\n",
    "    N = len(x)\n",
    "    point_colors = [(i/N, 0, 1-i/N) for i in range(N)]\n",
    "    plt.scatter(x,y, s=14, label='data', c=point_colors)\n",
    "\n",
    "    plt.quiver(field['x'][:,0], field['x'][:,1], field['dx'][:,0], field['dx'][:,1],\n",
    "            cmap='gray_r', scale=ARROW_SCALE, width=ARROW_WIDTH, color=(.2,.2,.2))  \n",
    "\n",
    "    plt.xlabel(\"$q$\", fontsize=14)\n",
    "    plt.ylabel(\"$p$\", rotation=0, fontsize=14)\n",
    "    plt.title(\"Data\", pad=10)\n",
    "    plt.xlim(-R, R)\n",
    "    plt.ylim(-R, R)\n",
    "\n",
    "    plt.subplot(1, 4, 2)\n",
    "    for i, l in enumerate(np.split(base_ivp['y'].T, LINE_SEGMENTS)):\n",
    "        color = (float(i)/LINE_SEGMENTS, 0, 1-float(i)/LINE_SEGMENTS)\n",
    "        plt.plot(l[:,0],l[:,1],color=color, linewidth=LINE_WIDTH)\n",
    "\n",
    "    plt.quiver(field['x'][:,0], field['x'][:,1], base_field[:,0], base_field[:,1],\n",
    "            cmap='gray_r', scale=ARROW_SCALE, width=ARROW_WIDTH, color=(.5,.5,.5))\n",
    "\n",
    "    plt.xlabel(\"$q$\", fontsize=14)\n",
    "    plt.ylabel(\"$p$\", rotation=0, fontsize=14)\n",
    "    plt.title(\"Naive Baseline ({})\".format(args.num_points), pad=10)\n",
    "    plt.xlim(-R, R)\n",
    "    plt.ylim(-R, R)\n",
    "\n",
    "    plt.subplot(1, 4, 3)\n",
    "    for i, l in enumerate(np.split(symoden_ivp['y'].T, LINE_SEGMENTS)):\n",
    "        color = (float(i)/LINE_SEGMENTS, 0, 1-float(i)/LINE_SEGMENTS)\n",
    "        plt.plot(l[:,0],l[:,1],color=color, linewidth=LINE_WIDTH)\n",
    "\n",
    "    plt.quiver(field['x'][:,0], field['x'][:,1], symoden_field[:,0], symoden_field[:,1],\n",
    "            cmap='gray_r', scale=ARROW_SCALE, width=ARROW_WIDTH, color=(.5,.5,.5))\n",
    "\n",
    "    plt.xlabel(\"$q$\", fontsize=14)\n",
    "    plt.ylabel(\"$p$\", rotation=0, fontsize=14)\n",
    "    plt.title(\"Unstructured SymODEN ({})\".format(args.num_points), pad=10)\n",
    "    plt.xlim(-R, R)\n",
    "    plt.ylim(-R, R)\n",
    "\n",
    "    plt.subplot(1, 4, 4)\n",
    "    for i, l in enumerate(np.split(symoden_struct_ivp['y'].T, LINE_SEGMENTS)):\n",
    "        color = (float(i)/LINE_SEGMENTS, 0, 1-float(i)/LINE_SEGMENTS)\n",
    "        plt.plot(l[:,0],l[:,1],color=color, linewidth=LINE_WIDTH)\n",
    "\n",
    "    plt.quiver(field['x'][:,0], field['x'][:,1], symoden_struct_field[:,0], symoden_struct_field[:,1],\n",
    "            cmap='gray_r', scale=ARROW_SCALE, width=ARROW_WIDTH, color=(.5,.5,.5))\n",
    "\n",
    "    plt.xlabel(\"$q$\", fontsize=14)\n",
    "    plt.ylabel(\"$p$\", rotation=0, fontsize=14)\n",
    "    plt.title(\"SymODEN ({})\".format(args.num_points), pad=10)\n",
    "    plt.xlim(-R, R)\n",
    "    plt.ylim(-R, R)\n",
    "\n",
    "# fig.savefig('{}/pend-single-force-p{}.{}'.format(args.fig_dir, args.num_points, FORMAT))\n"
   ]
  },
  {
   "cell_type": "markdown",
   "metadata": {},
   "source": [
    " ## Plot trajectory prediction"
   ]
  },
  {
   "cell_type": "code",
   "execution_count": null,
   "metadata": {},
   "outputs": [],
   "source": [
    "fig = plt.figure(figsize=(9.6, 3.2), dpi=DPI)\n",
    "plt.subplot(1, 3, 1)\n",
    "\n",
    "x, y, t = get_trajectory(timesteps=200, noise_std=0.0, y0=y0, u=u0)\n",
    "\n",
    "plt.plot(x,y, label='Ground Truth', color='k', linewidth=1)\n",
    "plt.plot(base_ivp['y'][0,:],base_ivp['y'][1,:], 'y', label='Naive Baseline', linewidth=1.3)\n",
    "\n",
    "plt.xlabel(\"$q$\", fontsize=14)\n",
    "plt.ylabel(\"$p$\", rotation=0, fontsize=14)\n",
    "plt.title(\"Trajectory Prediction\", pad=10)\n",
    "plt.xlim(-3, 3)\n",
    "plt.ylim(-2.4, 3.6)\n",
    "plt.legend(fontsize=10)\n",
    "\n",
    "plt.subplot(1, 3, 2)\n",
    "\n",
    "plt.plot(x,y, label='Ground Truth', color='k', linewidth=1)\n",
    "plt.plot(symoden_ivp['y'][0,:],symoden_ivp['y'][1,:], 'g', label='Unstructured SymODEN', linewidth=1.3)\n",
    "\n",
    "plt.xlabel(\"$q$\", fontsize=14)\n",
    "plt.ylabel(\"$p$\", rotation=0, fontsize=14)\n",
    "plt.title(\"Trajectory Prediction\", pad=10)\n",
    "plt.xlim(-3, 3)\n",
    "plt.ylim(-2.4, 3.6)\n",
    "plt.legend(fontsize=10)\n",
    "\n",
    "plt.subplot(1, 3, 3)\n",
    "\n",
    "plt.plot(x,y, label='Ground Truth', color='k', linewidth=1)\n",
    "plt.plot(symoden_struct_ivp['y'][0,:],symoden_struct_ivp['y'][1,:], 'b', label='SymODEN', linewidth=1.3)\n",
    "\n",
    "plt.xlabel(\"$q$\", fontsize=14)\n",
    "plt.ylabel(\"$p$\", rotation=0, fontsize=14)\n",
    "plt.title(\"Trajectory Prediction\", pad=10)\n",
    "plt.xlim(-3, 3)\n",
    "plt.ylim(-2.4, 3.6)\n",
    "plt.legend(fontsize=10)\n",
    "\n",
    "plt.tight_layout()\n",
    "# fig.savefig('{}/fig-single-traj.{}'.format(args.fig_dir, FORMAT))\n"
   ]
  },
  {
   "cell_type": "markdown",
   "metadata": {},
   "source": [
    " ## Plot learnt functions"
   ]
  },
  {
   "cell_type": "code",
   "execution_count": null,
   "metadata": {},
   "outputs": [],
   "source": [
    "fig = plt.figure(figsize=(9.6, 2.5), dpi=DPI)\n",
    "q = np.linspace(-5.0, 5.0, 40)\n",
    "q_tensor = torch.tensor(q, dtype=torch.float32).view(40, 1).to(device)\n",
    "\n",
    "plt.subplot(1, 3, 1)\n",
    "\n",
    "g_q = symoden_ode_struct_model.g_net(q_tensor)\n",
    "plt.plot(q, np.ones_like(q), label='Ground Truth', color='k', linewidth=2)\n",
    "plt.plot(q, g_q.detach().cpu().numpy(), 'b--', linewidth=3, label=r'SymODEN $g_{\\theta_3}(q)$')\n",
    "plt.xlabel(\"$q$\", fontsize=14)\n",
    "# plt.ylabel(\"$g(q)$\", rotation=0, fontsize=14)\n",
    "plt.title(\"$g(q)$\", pad=10, fontsize=14)\n",
    "plt.xlim(-5, 5)\n",
    "plt.ylim(0, 4)\n",
    "plt.legend(fontsize=10)\n",
    "\n",
    "M_q_inv = symoden_ode_struct_model.M_net(q_tensor)\n",
    "plt.subplot(1, 3, 2)\n",
    "plt.plot(q, 3 * np.ones_like(q), label='Ground Truth', color='k', linewidth=2)\n",
    "plt.plot(q, M_q_inv.detach().cpu().numpy(), 'b--', linewidth=3, label=r'SymODEN $M^{-1}_{\\theta_1}(q)$')\n",
    "plt.xlabel(\"$q$\", fontsize=14)\n",
    "# plt.ylabel(\"$M^{-1}(q)$\", rotation=0, fontsize=14)\n",
    "plt.title(\"$M^{-1}(q)$\", pad=10, fontsize=14)\n",
    "plt.xlim(-5, 5)\n",
    "plt.ylim(0, 4)\n",
    "plt.legend(fontsize=10)\n",
    "\n",
    "V_q = symoden_ode_struct_model.V_net(q_tensor)\n",
    "plt.subplot(1, 3, 3)\n",
    "plt.plot(q, 5.-5. * np.cos(q), label='Ground Truth', color='k', linewidth=2)\n",
    "plt.plot(q, V_q.detach().cpu().numpy(), 'b--', linewidth=3, label=r'SymODEN $V_{\\theta_2}(q)$')\n",
    "plt.xlabel(\"$q$\", fontsize=14)\n",
    "# plt.ylabel(\"$V(q)$\", rotation=0, fontsize=14)\n",
    "plt.title(\"$V(q)$\", pad=10, fontsize=14)\n",
    "plt.xlim(-5, 5)\n",
    "plt.ylim(-6, 21)\n",
    "plt.legend(fontsize=10)\n",
    "plt.tight_layout()\n",
    "# fig.savefig('{}/fig-single-pend.{}'.format(args.fig_dir, FORMAT))\n"
   ]
  },
  {
   "cell_type": "code",
   "execution_count": null,
   "metadata": {},
   "outputs": [],
   "source": []
  }
 ],
 "nbformat": 4,
 "nbformat_minor": 2,
 "metadata": {
  "language_info": {
   "name": "python",
   "codemirror_mode": {
    "name": "ipython",
    "version": 3
   },
   "version": "3.7.4-final"
  },
  "orig_nbformat": 2,
  "file_extension": ".py",
  "mimetype": "text/x-python",
  "name": "python",
  "npconvert_exporter": "python",
  "pygments_lexer": "ipython3",
  "version": 3,
  "kernelspec": {
   "name": "python37464bitembedvenv00bda69ab17746c28ffa9a3e65936c26",
   "display_name": "Python 3.7.4 64-bit ('embed': venv)"
  }
 }
}